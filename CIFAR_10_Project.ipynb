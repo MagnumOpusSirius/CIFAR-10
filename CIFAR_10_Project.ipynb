{
  "cells": [
    {
      "cell_type": "markdown",
      "metadata": {
        "id": "view-in-github",
        "colab_type": "text"
      },
      "source": [
        "<a href=\"https://colab.research.google.com/github/notpromising/CIFAR-10/blob/main/CIFAR_10_Project.ipynb\" target=\"_parent\"><img src=\"https://colab.research.google.com/assets/colab-badge.svg\" alt=\"Open In Colab\"/></a>"
      ]
    },
    {
      "cell_type": "markdown",
      "metadata": {
        "id": "NegAkmLZKITL"
      },
      "source": [
        "## Assignment4\n",
        "For this assignment, your task is to train a several convolutional neural networks to classify CIFAR-10 images. CIFAR-10 is a 10-class image classification dataset with 50,000 training images and 10,000 test images. You can find more info in https://www.cs.toronto.edu/~kriz/cifar.html. You should define a simple CNN with restrictions to classify this dataset. "
      ]
    },
    {
      "cell_type": "code",
      "execution_count": null,
      "metadata": {
        "id": "UQ7vc7_hKITR"
      },
      "outputs": [],
      "source": [
        "import tensorflow as tf\n",
        "import matplotlib.pyplot as plt\n",
        "from tensorflow.keras import regularizers\n",
        "from tensorflow.keras.optimizers import SGD\n",
        "from sklearn.model_selection import train_test_split\n",
        "from tensorflow import keras\n",
        "from keras.datasets import cifar10\n",
        "\n",
        "from keras.models import Sequential\n",
        "from keras.layers.convolutional import Conv2D\n",
        "from keras.layers import Dense\n",
        "from keras.layers.convolutional import MaxPooling2D\n",
        "from keras.layers import Flatten"
      ]
    },
    {
      "cell_type": "markdown",
      "metadata": {
        "id": "ZVLfTcsJKITR"
      },
      "source": [
        "#### Step-1: Import dataset\n",
        "Load the CIFAR-10 dataset using `cifar10.load_data()` and use 10% of training images as validation data."
      ]
    },
    {
      "cell_type": "code",
      "execution_count": null,
      "metadata": {
        "id": "K6PznhssKITR",
        "colab": {
          "base_uri": "https://localhost:8080/"
        },
        "outputId": "b84bb4df-8d4c-446d-e0ed-13590d8748d9"
      },
      "outputs": [
        {
          "output_type": "stream",
          "name": "stdout",
          "text": [
            "Downloading data from https://www.cs.toronto.edu/~kriz/cifar-10-python.tar.gz\n",
            "170500096/170498071 [==============================] - 13s 0us/step\n",
            "170508288/170498071 [==============================] - 13s 0us/step\n"
          ]
        }
      ],
      "source": [
        "###### Your codes start here.######\n",
        "#load dataset \n",
        "(x_train, y_train), (x_test, y_test)=cifar10.load_data()\n",
        "#print(x_train.shape, y_train.shape, x_test.shape, y_test.shape) \n",
        "\n",
        "#xv,yv=dataset_train[:,:2], dataset_train[:,-1]\n",
        "x_train, x_val, y_train, y_val=train_test_split(x_train, y_train, test_size=0.1, shuffle=True, random_state=144)\n",
        "#torch.manual_seed(43)\n",
        "#val_size = 5000\n",
        "#train_size = len(dataset) - val_siz\n",
        "#Source: https://medium.com/@sergioalves94/deep-learning-in-pytorch-with-cifar-10-dataset-858b504a6b54\n",
        "#source http://home.mit.bme.hu/~hadhazi/Oktatas/NN18/dem3/html_demo/CIFAR-10Demo.html\n",
        "\n",
        "#split the data into training, val and test data set\n",
        "#use 10% as validation data\n",
        "###### Your codes start here.######\n",
        "assert x_train.shape == (45000, 32, 32, 3)\n",
        "assert x_test.shape == (10000, 32, 32, 3)\n",
        "assert x_val.shape == (5000, 32, 32, 3)\n",
        "assert y_val.shape == (5000, 1)\n",
        "assert y_train.shape == (45000, 1)\n",
        "assert y_test.shape == (10000, 1)\n",
        "# print(x_train.shape, y_train.shape, x_val.shape, y_val.shape,  x_test.shape, y_test.shape)"
      ]
    },
    {
      "cell_type": "code",
      "execution_count": null,
      "metadata": {
        "id": "d45hvQNDKITS",
        "colab": {
          "base_uri": "https://localhost:8080/",
          "height": 283
        },
        "outputId": "38c7ec53-1776-4104-92a2-a6dc68d86bf4"
      },
      "outputs": [
        {
          "output_type": "execute_result",
          "data": {
            "text/plain": [
              "<matplotlib.image.AxesImage at 0x7f34096dbbd0>"
            ]
          },
          "metadata": {},
          "execution_count": 6
        },
        {
          "output_type": "display_data",
          "data": {
            "text/plain": [
              "<Figure size 432x288 with 1 Axes>"
            ],
            "image/png": "[encoded data removed]"
          },
          "metadata": {
            "needs_background": "light"
          }
        }
      ],
      "source": [
        "#Visulize one image from CIFAR\n",
        "plt.imshow(x_train[0], cmap=plt.cm.binary)"
      ]
    },
    {
      "cell_type": "markdown",
      "metadata": {
        "id": "EOYWGLgqKITS"
      },
      "source": [
        "#### Step-2: Normalize iamges\n",
        "Now the range of pixel values is from 0 to 255. Normalize the images in training set, validation set, and test set to 0-1."
      ]
    },
    {
      "cell_type": "code",
      "execution_count": null,
      "metadata": {
        "id": "DOmVSzhYKITS"
      },
      "outputs": [],
      "source": [
        "###### Your codes start here.######\n",
        "#we can convert from int to float\n",
        "#normalize to range 0-1\n",
        "x_train=x_train/255\n",
        "x_test=x_test/255\n",
        "x_val=x_val/255\n",
        "\n",
        "###### Your codes end here.######"
      ]
    },
    {
      "cell_type": "markdown",
      "metadata": {
        "id": "eFpoh2XBKITT"
      },
      "source": [
        "#### Step-3: Build a neural network.\n",
        "Build your convolutional neural networks by adding some layers. You should use 2 convolution layers and ReLU as the default activation function. The kernel size of both layers should be 3x3. Use 32 and 64 as the number of filters for the first and the second convolutional layers, respectively. After that, flatten your input and add two more dense layers. There should be 1024 units in the first dense with ReLU activation, and use 10 hidden units in the second dense layer with softmax activation. The requirements are same for the following questions."
      ]
    },
    {
      "cell_type": "code",
      "execution_count": null,
      "metadata": {
        "id": "Y-7IE80mKITT"
      },
      "outputs": [],
      "source": [
        "###### Your code starts here. ######\n",
        "from keras.models import Sequential\n",
        "#develop our network model\n",
        "#kernel_initializer='he_uniform', padding='same',\n",
        "model = Sequential()\n",
        "model.add(Conv2D(32, (3, 3), activation='relu', input_shape=(32, 32, 3)))\n",
        "#model.add(Conv2D(32, (3, 3), activation='relu', kernel_initializer='he_uniform', padding='same'))\n",
        "#model.add(MaxPooling2D((2, 2)))\n",
        "#model.add(Conv2D(64, (3, 3), activation='relu', kernel_initializer='he_uniform', padding='same'))\n",
        "model.add(Conv2D(64, (3, 3), activation='relu'))\n",
        "#model.add(MaxPooling2D((2, 2)))\n",
        "#model.add(MaxPooling2D((2, 2)))\n",
        "\n",
        "\n",
        "# example output part of the model\n",
        "model.add(Flatten())\n",
        "model.add(Dense(1024, activation='relu'))\n",
        "model.add(Dense(10, activation='softmax'))\n",
        "###### Your codes end here.######\n",
        "    \n"
      ]
    },
    {
      "cell_type": "markdown",
      "metadata": {
        "id": "dt27nBzJKITU"
      },
      "source": [
        "#### Step-4: Train the model\n",
        "Compile model here and set your initial hyperparameters. Use SGD as the optimizer with initial learning rate 0.01. You could choose 'sparse_categorical_crossentropy' as your loss function, and the metrics should be 'accuracy'. After that, train your model for 10 epochs. The requirements are same for the following questions."
      ]
    },
    {
      "cell_type": "code",
      "execution_count": null,
      "metadata": {
        "id": "egGS7HGEKITV"
      },
      "outputs": [],
      "source": [
        "###### Your code starts here. ######\n",
        "#use SGD as the optimizer with lr as 0.01\n",
        "opt = SGD(learning_rate=0.01)\n",
        "model.compile(optimizer=opt, loss='sparse_categorical_crossentropy', metrics=['accuracy'])\n",
        "model.fit(x_train,y_train,epochs=10,validation_data=(x_val,y_val))\n",
        "#print(model)\n",
        "\n",
        "###### Your code end here. ######"
      ]
    },
    {
      "cell_type": "code",
      "execution_count": null,
      "metadata": {
        "id": "oBdDwRj1KITV"
      },
      "outputs": [],
      "source": [
        "#Evaluation\n",
        "test_loss, test_acc = model.evaluate(x_test, y_test)\n",
        "print(test_loss, test_acc)"
      ]
    },
    {
      "cell_type": "markdown",
      "metadata": {
        "id": "urGP_6ZJKITV"
      },
      "source": [
        "#### Step-5: Regularization\n",
        "Add one dropout layer with 0.5 drop rate between the two dense layer and apply a SGD with momentum 0.9. You can keep all other hyperparameters the same."
      ]
    },
    {
      "cell_type": "code",
      "execution_count": null,
      "metadata": {
        "id": "vlIUR4fgKITV"
      },
      "outputs": [],
      "source": [
        "###### Your code starts here. ######\n",
        "from keras.layers import Dropout\n",
        "\n",
        "model = Sequential()\n",
        "model.add(Conv2D(32, (3, 3), activation='relu', input_shape=(32, 32, 3)))\n",
        "#model.add(Conv2D(32, (3, 3), activation='relu', kernel_initializer='he_uniform', padding='same'))\n",
        "#model.add(MaxPooling2D((2, 2)))\n",
        "#model.add(Conv2D(64, (3, 3), activation='relu', kernel_initializer='he_uniform', padding='same'))\n",
        "model.add(Conv2D(64, (3, 3), activation='relu'))\n",
        "#model.add(MaxPooling2D((2, 2)))\n",
        "\n",
        "# example output part of the model\n",
        "model.add(Flatten())\n",
        "model.add(Dense(1024, activation='relu'))\n",
        "model.add(Dropout(0.5))\n",
        "model.add(Dense(10, activation='softmax'))\n",
        "#model.add(Conv2D(64, (3, 3), activation='relu'))\n",
        "opt = SGD(learning_rate=0.01, momentum=0.9)\n",
        "model.compile(optimizer=opt, loss='sparse_categorical_crossentropy', metrics=['accuracy'])\n",
        "model.fit(x_train,y_train,epochs=10,validation_data=(x_val,y_val))\n",
        "\n",
        "\n",
        "###### Your codes end here.######"
      ]
    },
    {
      "cell_type": "code",
      "source": [
        "#Evaluation\n",
        "test_loss, test_acc = model.evaluate(x_test, y_test)\n",
        "print(test_loss, test_acc)"
      ],
      "metadata": {
        "id": "ztfATfMHnrK-"
      },
      "execution_count": null,
      "outputs": []
    },
    {
      "cell_type": "markdown",
      "metadata": {
        "id": "cGn8p6_wKITV"
      },
      "source": [
        "#### Step-6: Deeper neural network\n",
        "\n",
        "Try to add two more convolution layers in your model (four in total). Use 128 as the number of filters for two extra convolution layers, and 3x3 as the kernel size."
      ]
    },
    {
      "cell_type": "code",
      "execution_count": null,
      "metadata": {
        "id": "R1JC-NoEKITW"
      },
      "outputs": [],
      "source": [
        "###### Your code starts here. ######\n",
        "#model.add(Conv2D(32, (3, 3), activation='relu', input_shape=(32, 32, 3)))\n",
        "\n",
        "model = Sequential()\n",
        "model.add(Conv2D(32, (3, 3), activation='relu', input_shape=(32, 32, 3)))\n",
        "#model.add(Conv2D(32, (3, 3), activation='relu', kernel_initializer='he_uniform', padding='same'))\n",
        "#model.add(MaxPooling2D((2, 2)))\n",
        "#model.add(Conv2D(64, (3, 3), activation='relu', kernel_initializer='he_uniform', padding='same'))\n",
        "model.add(Conv2D(64, (3, 3), activation='relu'))\n",
        "#model.add(MaxPooling2D((2, 2)))\n",
        "#model.add(MaxPooling2D((2, 2)))\n",
        "model.add(Conv2D(128, (3, 3), activation='relu'))\n",
        "model.add(Conv2D(128, (3, 3), activation='relu'))\n",
        "\n",
        "# example output part of the model\n",
        "model.add(Flatten())\n",
        "model.add(Dense(1024, activation='relu'))\n",
        "model.add(Dropout(0.5))\n",
        "model.add(Dense(10, activation='softmax'))\n",
        "#model.add(Conv2D(64, (3, 3), activation='relu'))\n",
        "opt = SGD(learning_rate=0.01, momentum=0.9)\n",
        "model.compile(optimizer=opt, loss='sparse_categorical_crossentropy', metrics=['accuracy'])\n",
        "model.fit(x_train,y_train,epochs=10,validation_data=(x_val,y_val))\n",
        "\n",
        "###### Your codes end here.######"
      ]
    },
    {
      "cell_type": "code",
      "source": [
        "#Evaluation\n",
        "test_loss, test_acc = model.evaluate(x_test, y_test)\n",
        "print(test_loss, test_acc)"
      ],
      "metadata": {
        "id": "ldf0M6JHnryK"
      },
      "execution_count": null,
      "outputs": []
    },
    {
      "cell_type": "markdown",
      "metadata": {
        "id": "NLm_Vh-1KITW"
      },
      "source": [
        "#### Step-7: Activation function\n",
        "\n",
        "Try another activation function, such as elu, P-ReLU."
      ]
    },
    {
      "cell_type": "code",
      "execution_count": null,
      "metadata": {
        "id": "QKGOjvceKITW"
      },
      "outputs": [],
      "source": [
        "###### Your code starts here. ######\n",
        "#keras.layers.PReLU(alpha_initializer='zeros', alpha_regularizer=None, alpha_constraint=None, shared_axes=None)\n",
        "#model.add(Conv2D(32, (3, 3), activation='relu', input_shape=(32, 32, 3)))\n",
        "from keras.models import Sequential\n",
        "from keras.layers.advanced_activations import PReLU\n",
        "model = Sequential()\n",
        "model.add(Conv2D(32, (3, 3), activation=PReLU(), input_shape=(32, 32, 3)))\n",
        "#model.add(Conv2D(32, (3, 3), activation='relu', kernel_initializer='he_uniform', padding='same'))\n",
        "#model.add(MaxPooling2D((2, 2)))\n",
        "#model.add(Conv2D(64, (3, 3), activation='relu', kernel_initializer='he_uniform', padding='same'))\n",
        "model.add(Conv2D(64, (3, 3), activation=PReLU()))\n",
        "#model.add(MaxPooling2D((2, 2)))\n",
        "#model.add(MaxPooling2D((2, 2)))\n",
        "\n",
        "# example output part of the model\n",
        "model.add(Flatten())\n",
        "model.add(Dense(1024, activation=PReLU()))\n",
        "model.add(Dropout(0.5))\n",
        "model.add(Dense(10, activation='softmax'))\n",
        "#model.add(Conv2D(64, (3, 3), activation='relu'))\n",
        "opt = SGD(learning_rate=0.01,momentum=0.9)\n",
        "model.compile(optimizer=opt, loss='sparse_categorical_crossentropy', metrics=['accuracy'])\n",
        "model.fit(x_train,y_train,epochs=10,validation_data=(x_val,y_val))\n",
        "###### Your codes end here.######"
      ]
    },
    {
      "cell_type": "code",
      "source": [
        "#Evaluation\n",
        "test_loss, test_acc = model.evaluate(x_test, y_test)\n",
        "print(test_loss, test_acc)"
      ],
      "metadata": {
        "id": "SNMyBMv_nsit"
      },
      "execution_count": null,
      "outputs": []
    }
  ],
  "metadata": {
    "colab": {
      "provenance": [],
      "include_colab_link": true
    },
    "interpreter": {
      "hash": "3afe1e4ce7822ba0e325ee279bb4d100dadd903c2abe2139ffec7391692aa1eb"
    },
    "kernelspec": {
      "display_name": "Python 3.6.13 ('zichao')",
      "language": "python",
      "name": "python3"
    },
    "language_info": {
      "codemirror_mode": {
        "name": "ipython",
        "version": 3
      },
      "file_extension": ".py",
      "mimetype": "text/x-python",
      "name": "python",
      "nbconvert_exporter": "python",
      "pygments_lexer": "ipython3",
      "version": "3.6.13"
    },
    "orig_nbformat": 4,
    "accelerator": "GPU"
  },
  "nbformat": 4,
  "nbformat_minor": 0
}